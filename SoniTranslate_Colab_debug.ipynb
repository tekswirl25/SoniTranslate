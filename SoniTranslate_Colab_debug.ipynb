{
  "cells": [
    {
      "cell_type": "markdown",
      "metadata": {
        "id": "8lw0EgLex-YZ"
      },
      "source": [
        "# SoniTranslate\n",
        "\n",
        "| Description | Link |\n",
        "| ----------- | ---- |\n",
        "| 🎉 Repository | [![GitHub Repository](https://img.shields.io/badge/GitHub-Repository-black?style=flat-square&logo=github)](https://github.com/R3gm/SoniTranslate/) |\n",
        "| 🚀 Online Demo in HF | [![Hugging Face Spaces](https://img.shields.io/badge/%F0%9F%A4%97%20Hugging%20Face-Spaces-blue)](https://huggingface.co/spaces/r3gm/SoniTranslate_translate_audio_of_a_video_content) |\n",
        "\n",
        "\n"
      ]
    },
    {
      "cell_type": "code",
      "source": [
        "# ==== REPO CONFIG ====\n",
        "# ==== CONFIG ====\n",
        "OWNER = {\n",
        "    \"original\": \"R3gm\",\n",
        "    \"fork\": \"tekswirl25\"\n",
        "}\n",
        "\n",
        "USE = \"fork\"   # или \"original\"\n",
        "\n",
        "repos = {\n",
        "    \"sonitranslate\": {\n",
        "        \"name\": \"SoniTranslate\",\n",
        "        \"branch\": \"main\"\n",
        "    },\n",
        "    \"whisperx\": {\n",
        "        \"name\": \"whisperX\",\n",
        "        \"branch\": \"cuda_12_x\"\n",
        "    }\n",
        "}\n",
        "\n",
        "# Автогенерация ссылок\n",
        "import os\n",
        "for key, info in repos.items():\n",
        "    url = f\"https://github.com/{OWNER[USE]}/{info['name']}.git\"\n",
        "    os.environ[f\"{key.upper()}_URL\"] = url\n",
        "    os.environ[f\"{key.upper()}_BRANCH\"] = info[\"branch\"]\n",
        "\n",
        "print(\"Using repos from:\", OWNER[USE])\n",
        "for key in repos:\n",
        "    print(f\"{key}: {os.environ[f'{key.upper()}_URL']} @ {os.environ[f'{key.upper()}_BRANCH']}\")"
      ],
      "metadata": {
        "id": "6OuLxE2huxUU"
      },
      "execution_count": null,
      "outputs": []
    },
    {
      "cell_type": "code",
      "source": [
        "print(\"=== DEBUG: Repo configuration ===\")\n",
        "print(\"SONITRANSLATE_URL   =\", os.environ.get(\"SONITRANSLATE_URL\"))\n",
        "print(\"SONITRANSLATE_BRANCH=\", os.environ.get(\"SONITRANSLATE_BRANCH\"))\n",
        "print(\"WHISPERX_URL        =\", os.environ.get(\"WHISPERX_URL\"))\n",
        "print(\"WHISPERX_BRANCH     =\", os.environ.get(\"WHISPERX_BRANCH\"))\n",
        "\n",
        "# Дополнительно: проверим, что переменные не пустые\n",
        "for var in [\"SONITRANSLATE_URL\",\"SONITRANSLATE_BRANCH\",\"WHISPERX_URL\",\"WHISPERX_BRANCH\"]:\n",
        "    if not os.environ.get(var):\n",
        "        print(f\"[ERROR] {var} is not set!\")"
      ],
      "metadata": {
        "id": "qvsq3AzkvFy_"
      },
      "execution_count": null,
      "outputs": []
    },
    {
      "cell_type": "code",
      "source": [
        "echo \"SONITRANSLATE:\" $SONITRANSLATE_URL \"@\" $SONITRANSLATE_BRANCH\n",
        "echo \"WHISPERX:\" $WHISPERX_URL \"@\" $WHISPERX_BRANCH\n",
        "\n",
        "# проверим доступность git-репо и веток без клонирования\n",
        "git ls-remote --heads $SONITRANSLATE_URL $SONITRANSLATE_BRANCH\n",
        "git ls-remote --heads $WHISPERX_URL $WHISPERX_BRANCH\n"
      ],
      "metadata": {
        "id": "JeGlfGZOvRVB"
      },
      "execution_count": null,
      "outputs": []
    },
    {
      "cell_type": "code",
      "execution_count": null,
      "metadata": {
        "cellView": "form",
        "id": "LUgwm0rfx0_J"
      },
      "outputs": [],
      "source": [
        "# @title Install requirements for SoniTranslate\n",
        "!git clone https://github.com/r3gm/SoniTranslate.git\n",
        "%cd SoniTranslate\n",
        "\n",
        "!pip uninstall chex pandas-stubs ibis-framework albumentations albucore jax -y -q\n",
        "!python -m pip install -q pip==23.1.2\n",
        "!apt install git-lfs\n",
        "!git lfs install\n",
        "\n",
        "!sed -i 's|git+https://github.com/R3gm/whisperX.git@cuda_11_8|git+https://github.com/R3gm/whisperX.git@cuda_12_x|' requirements_base.txt\n",
        "!sed -i 's|fairseq==0.12.2 |https://github.com/liyaodev/fairseq/releases/download/v0.12.3.1/fairseq-0.12.3.1-cp311-cp311-linux_x86_64.whl|' requirements_extra.txt\n",
        "!pip install -q -r requirements_base.txt\n",
        "!pip install -q -r requirements_extra.txt\n",
        "!pip install -q ort-nightly-gpu --index-url=https://aiinfra.pkgs.visualstudio.com/PublicPackages/_packaging/ort-cuda-12-nightly/pypi/simple/\n",
        "\n",
        "Install_PIPER_TTS = True # @param {type:\"boolean\"}\n",
        "\n",
        "if Install_PIPER_TTS:\n",
        "    !pip install -q piper-tts==1.2.0\n",
        "\n",
        "Install_Coqui_XTTS = True # @param {type:\"boolean\"}\n",
        "\n",
        "if Install_Coqui_XTTS:\n",
        "    !pip install -q -r requirements_xtts.txt\n",
        "    !pip install -q TTS==0.21.1  --no-deps\n",
        "\n",
        "!sudo apt install -y libcudnn8\n",
        "!pip install -q torch==2.5.1 torchvision==0.20.1 torchaudio==2.5.1 --index-url https://download.pytorch.org/whl/cu124"
      ]
    },
    {
      "cell_type": "markdown",
      "metadata": {
        "id": "LTaTstXPXNg2"
      },
      "source": [
        "One important step is to accept the license agreement for using Pyannote. You need to have an account on Hugging Face and `accept the license to use the models`: https://huggingface.co/pyannote/speaker-diarization and https://huggingface.co/pyannote/segmentation\n",
        "\n",
        "Get your KEY TOKEN here: https://hf.co/settings/tokens\n",
        "\n",
        "When you are creating the new Access Token in Hugging Face, make sure to tick \"Read access to contents of all public gated repos you can access\"."
      ]
    },
    {
      "cell_type": "code",
      "execution_count": null,
      "metadata": {
        "cellView": "form",
        "id": "XkhXfaFw4R4J"
      },
      "outputs": [],
      "source": [
        "#@markdown # `RUN THE WEB APP`\n",
        "YOUR_HF_TOKEN = \"\" #@param {type:'string'}\n",
        "%env YOUR_HF_TOKEN={YOUR_HF_TOKEN}\n",
        "theme = \"Taithrah/Minimal\" # @param [\"Taithrah/Minimal\", \"aliabid94/new-theme\", \"gstaff/xkcd\", \"ParityError/LimeFace\", \"abidlabs/pakistan\", \"rottenlittlecreature/Moon_Goblin\", \"ysharma/llamas\", \"gradio/dracula_revamped\"]\n",
        "interface_language = \"english\" # @param ['arabic', 'azerbaijani', 'chinese_zh_cn', 'english', 'french', 'german', 'hindi', 'indonesian', 'italian', 'japanese', 'korean', 'marathi', 'polish', 'portuguese', 'russian', 'spanish', 'swedish', 'turkish', 'ukrainian', 'vietnamese']\n",
        "verbosity_level = \"info\" # @param [\"debug\", \"info\", \"warning\", \"error\", \"critical\"]\n",
        "\n",
        "\n",
        "%cd /content/SoniTranslate\n",
        "!python app_rvc.py --theme {theme} --verbosity_level {verbosity_level} --language {interface_language} --public_url"
      ]
    },
    {
      "cell_type": "markdown",
      "metadata": {
        "id": "KJW3KrhZJh0u"
      },
      "source": [
        "Open the `public URL` when it appears"
      ]
    }
  ],
  "metadata": {
    "accelerator": "GPU",
    "colab": {
      "gpuType": "T4",
      "provenance": []
    },
    "kernelspec": {
      "display_name": "Python 3",
      "name": "python3"
    },
    "language_info": {
      "name": "python"
    }
  },
  "nbformat": 4,
  "nbformat_minor": 0
}